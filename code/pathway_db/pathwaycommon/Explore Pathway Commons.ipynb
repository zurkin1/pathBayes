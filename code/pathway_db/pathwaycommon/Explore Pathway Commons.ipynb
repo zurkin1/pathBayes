{
 "cells": [
  {
   "cell_type": "markdown",
   "id": "pending-cement",
   "metadata": {},
   "source": [
    "This notebook is a demonstration of PyBioPAX that contains a mix of functions for traversing Pathway Commons' full, detailed data dump.\n",
    "\n",
    "Note: the notebook uses `pystow` and `tabulate` which are not dependencies of PyBioPAX and can both be separately installed from PyPI using `pip install`."
   ]
  },
  {
   "cell_type": "code",
   "execution_count": 1,
   "id": "pediatric-minutes",
   "metadata": {},
   "outputs": [
    {
     "name": "stdout",
     "output_type": "stream",
     "text": [
      "Collecting pystow\n",
      "  Downloading pystow-0.5.4-py3-none-any.whl (32 kB)\n",
      "Requirement already satisfied: requests in c:\\users\\user\\documents\\github\\pathsingle\\venv\\lib\\site-packages (from pystow) (2.32.3)\n",
      "Collecting click\n",
      "  Downloading click-8.1.7-py3-none-any.whl (97 kB)\n",
      "     ---------------------------------------- 97.9/97.9 KB 1.4 MB/s eta 0:00:00\n",
      "Requirement already satisfied: tqdm in c:\\users\\user\\documents\\github\\pathsingle\\venv\\lib\\site-packages (from pystow) (4.66.4)\n",
      "Requirement already satisfied: colorama in c:\\users\\user\\documents\\github\\pathsingle\\venv\\lib\\site-packages (from click->pystow) (0.4.6)\n",
      "Requirement already satisfied: charset-normalizer<4,>=2 in c:\\users\\user\\documents\\github\\pathsingle\\venv\\lib\\site-packages (from requests->pystow) (3.3.2)\n",
      "Requirement already satisfied: urllib3<3,>=1.21.1 in c:\\users\\user\\documents\\github\\pathsingle\\venv\\lib\\site-packages (from requests->pystow) (2.2.2)\n",
      "Requirement already satisfied: idna<4,>=2.5 in c:\\users\\user\\documents\\github\\pathsingle\\venv\\lib\\site-packages (from requests->pystow) (3.7)\n",
      "Requirement already satisfied: certifi>=2017.4.17 in c:\\users\\user\\documents\\github\\pathsingle\\venv\\lib\\site-packages (from requests->pystow) (2024.7.4)\n",
      "Installing collected packages: click, pystow\n",
      "Successfully installed click-8.1.7 pystow-0.5.4\n"
     ]
    },
    {
     "name": "stderr",
     "output_type": "stream",
     "text": [
      "Traceback (most recent call last):\n",
      "  File \"<string>\", line 1, in <module>\n",
      "ModuleNotFoundError: No module named 'pystow'\n",
      "WARNING: You are using pip version 22.0.4; however, version 24.1.1 is available.\n",
      "You should consider upgrading via the 'C:\\Users\\user\\Documents\\GitHub\\PathSingle\\venv\\Scripts\\python.exe -m pip install --upgrade pip' command.\n"
     ]
    },
    {
     "name": "stdout",
     "output_type": "stream",
     "text": [
      "Collecting tabulate\n",
      "  Downloading tabulate-0.9.0-py3-none-any.whl (35 kB)\n",
      "Installing collected packages: tabulate\n",
      "Successfully installed tabulate-0.9.0\n"
     ]
    },
    {
     "name": "stderr",
     "output_type": "stream",
     "text": [
      "Traceback (most recent call last):\n",
      "  File \"<string>\", line 1, in <module>\n",
      "ModuleNotFoundError: No module named 'tabulate'\n",
      "WARNING: You are using pip version 22.0.4; however, version 24.1.1 is available.\n",
      "You should consider upgrading via the 'C:\\Users\\user\\Documents\\GitHub\\PathSingle\\venv\\Scripts\\python.exe -m pip install --upgrade pip' command.\n"
     ]
    }
   ],
   "source": [
    "# Install packages if they're not already found\n",
    "! python -c \"import pystow\" || pip install pystow\n",
    "! python -c \"import tabulate\" || pip install tabulate"
   ]
  },
  {
   "cell_type": "code",
   "execution_count": 2,
   "id": "wired-glucose",
   "metadata": {},
   "outputs": [],
   "source": [
    "import gzip\n",
    "import pickle\n",
    "from collections import defaultdict, Counter\n",
    "from typing import Optional, Iterable, Set, Tuple, Any\n",
    "\n",
    "import pystow\n",
    "from lxml import etree\n",
    "from tabulate import tabulate\n",
    "from tqdm.auto import tqdm\n",
    "from IPython.display import HTML\n",
    "\n",
    "import pybiopax\n",
    "from pybiopax.biopax import *"
   ]
  },
  {
   "cell_type": "code",
   "execution_count": 3,
   "id": "terminal-leisure",
   "metadata": {},
   "outputs": [
    {
     "data": {
      "application/vnd.jupyter.widget-view+json": {
       "model_id": "8be8be97696d4d0f94b43124bb3e78e9",
       "version_major": 2,
       "version_minor": 0
      },
      "text/plain": [
       "Downloading PathwayCommons12.Detailed.BIOPAX.owl.gz: 0.00B [00:00, ?B/s]"
      ]
     },
     "metadata": {},
     "output_type": "display_data"
    },
    {
     "ename": "BadGzipFile",
     "evalue": "Not a gzipped file (b'<!')",
     "output_type": "error",
     "traceback": [
      "\u001b[1;31m---------------------------------------------------------------------------\u001b[0m",
      "\u001b[1;31mBadGzipFile\u001b[0m                               Traceback (most recent call last)",
      "Cell \u001b[1;32mIn[3], line 12\u001b[0m\n\u001b[0;32m      9\u001b[0m     path \u001b[38;5;241m=\u001b[39m pystow\u001b[38;5;241m.\u001b[39mensure(\u001b[38;5;124m\"\u001b[39m\u001b[38;5;124mbio\u001b[39m\u001b[38;5;124m\"\u001b[39m, \u001b[38;5;124m\"\u001b[39m\u001b[38;5;124mpathwaycommons\u001b[39m\u001b[38;5;124m\"\u001b[39m, version, url\u001b[38;5;241m=\u001b[39murl)    \n\u001b[0;32m     10\u001b[0m     \u001b[38;5;28;01mreturn\u001b[39;00m pybiopax\u001b[38;5;241m.\u001b[39mmodel_from_owl_gz(path)\n\u001b[1;32m---> 12\u001b[0m pc12 \u001b[38;5;241m=\u001b[39m \u001b[43mensure_pc_detailed\u001b[49m\u001b[43m(\u001b[49m\u001b[43mversion\u001b[49m\u001b[38;5;241;43m=\u001b[39;49m\u001b[38;5;124;43m\"\u001b[39;49m\u001b[38;5;124;43m12\u001b[39;49m\u001b[38;5;124;43m\"\u001b[39;49m\u001b[43m)\u001b[49m\n",
      "Cell \u001b[1;32mIn[3], line 10\u001b[0m, in \u001b[0;36mensure_pc_detailed\u001b[1;34m(version, force)\u001b[0m\n\u001b[0;32m      8\u001b[0m url \u001b[38;5;241m=\u001b[39m \u001b[38;5;124mf\u001b[39m\u001b[38;5;124m\"\u001b[39m\u001b[38;5;124mhttps://www.pathwaycommons.org/archives/PC2/v\u001b[39m\u001b[38;5;132;01m{\u001b[39;00mversion\u001b[38;5;132;01m}\u001b[39;00m\u001b[38;5;124m/PathwayCommons\u001b[39m\u001b[38;5;132;01m{\u001b[39;00mversion\u001b[38;5;132;01m}\u001b[39;00m\u001b[38;5;124m.Detailed.BIOPAX.owl.gz\u001b[39m\u001b[38;5;124m\"\u001b[39m\n\u001b[0;32m      9\u001b[0m path \u001b[38;5;241m=\u001b[39m pystow\u001b[38;5;241m.\u001b[39mensure(\u001b[38;5;124m\"\u001b[39m\u001b[38;5;124mbio\u001b[39m\u001b[38;5;124m\"\u001b[39m, \u001b[38;5;124m\"\u001b[39m\u001b[38;5;124mpathwaycommons\u001b[39m\u001b[38;5;124m\"\u001b[39m, version, url\u001b[38;5;241m=\u001b[39murl)    \n\u001b[1;32m---> 10\u001b[0m \u001b[38;5;28;01mreturn\u001b[39;00m \u001b[43mpybiopax\u001b[49m\u001b[38;5;241;43m.\u001b[39;49m\u001b[43mmodel_from_owl_gz\u001b[49m\u001b[43m(\u001b[49m\u001b[43mpath\u001b[49m\u001b[43m)\u001b[49m\n",
      "File \u001b[1;32mc:\\Users\\user\\Documents\\GitHub\\PathSingle\\venv\\lib\\site-packages\\pybiopax\\api.py:79\u001b[0m, in \u001b[0;36mmodel_from_owl_gz\u001b[1;34m(path, encoding)\u001b[0m\n\u001b[0;32m     62\u001b[0m \u001b[38;5;250m\u001b[39m\u001b[38;5;124;03m\"\"\"Return a BioPAX Model from an OWL file (gzipped).\u001b[39;00m\n\u001b[0;32m     63\u001b[0m \n\u001b[0;32m     64\u001b[0m \u001b[38;5;124;03mParameters\u001b[39;00m\n\u001b[1;32m   (...)\u001b[0m\n\u001b[0;32m     76\u001b[0m \u001b[38;5;124;03m    A BioPAX Model deserialized from the OWL file.\u001b[39;00m\n\u001b[0;32m     77\u001b[0m \u001b[38;5;124;03m\"\"\"\u001b[39;00m\n\u001b[0;32m     78\u001b[0m \u001b[38;5;28;01mwith\u001b[39;00m gzip\u001b[38;5;241m.\u001b[39mopen(path, \u001b[38;5;124m'\u001b[39m\u001b[38;5;124mrt\u001b[39m\u001b[38;5;124m'\u001b[39m, encoding\u001b[38;5;241m=\u001b[39mencoding) \u001b[38;5;28;01mas\u001b[39;00m fh:\n\u001b[1;32m---> 79\u001b[0m     \u001b[38;5;28;01mreturn\u001b[39;00m BioPaxModel\u001b[38;5;241m.\u001b[39mfrom_xml(\u001b[43metree\u001b[49m\u001b[38;5;241;43m.\u001b[39;49m\u001b[43mparse\u001b[49m\u001b[43m(\u001b[49m\u001b[43mfh\u001b[49m\u001b[43m)\u001b[49m\u001b[38;5;241m.\u001b[39mgetroot())\n",
      "File \u001b[1;32msrc\\\\lxml\\\\etree.pyx:3590\u001b[0m, in \u001b[0;36mlxml.etree.parse\u001b[1;34m()\u001b[0m\n",
      "File \u001b[1;32msrc\\\\lxml\\\\parser.pxi:1973\u001b[0m, in \u001b[0;36mlxml.etree._parseDocument\u001b[1;34m()\u001b[0m\n",
      "File \u001b[1;32msrc\\\\lxml\\\\parser.pxi:1993\u001b[0m, in \u001b[0;36mlxml.etree._parseFilelikeDocument\u001b[1;34m()\u001b[0m\n",
      "File \u001b[1;32msrc\\\\lxml\\\\parser.pxi:1887\u001b[0m, in \u001b[0;36mlxml.etree._parseDocFromFilelike\u001b[1;34m()\u001b[0m\n",
      "File \u001b[1;32msrc\\\\lxml\\\\parser.pxi:1224\u001b[0m, in \u001b[0;36mlxml.etree._BaseParser._parseDocFromFilelike\u001b[1;34m()\u001b[0m\n",
      "File \u001b[1;32msrc\\\\lxml\\\\parser.pxi:633\u001b[0m, in \u001b[0;36mlxml.etree._ParserContext._handleParseResultDoc\u001b[1;34m()\u001b[0m\n",
      "File \u001b[1;32msrc\\\\lxml\\\\parser.pxi:739\u001b[0m, in \u001b[0;36mlxml.etree._handleParseResult\u001b[1;34m()\u001b[0m\n",
      "File \u001b[1;32msrc\\\\lxml\\\\etree.pyx:349\u001b[0m, in \u001b[0;36mlxml.etree._ExceptionContext._raise_if_stored\u001b[1;34m()\u001b[0m\n",
      "File \u001b[1;32msrc\\\\lxml\\\\parser.pxi:384\u001b[0m, in \u001b[0;36mlxml.etree._FileReaderContext.copyToBuffer\u001b[1;34m()\u001b[0m\n",
      "File \u001b[1;32mC:\\Program Files\\WindowsApps\\PythonSoftwareFoundation.Python.3.9_3.9.3568.0_x64__qbz5n2kfra8p0\\lib\\gzip.py:313\u001b[0m, in \u001b[0;36mGzipFile.read1\u001b[1;34m(self, size)\u001b[0m\n\u001b[0;32m    311\u001b[0m \u001b[38;5;28;01mif\u001b[39;00m size \u001b[38;5;241m<\u001b[39m \u001b[38;5;241m0\u001b[39m:\n\u001b[0;32m    312\u001b[0m     size \u001b[38;5;241m=\u001b[39m io\u001b[38;5;241m.\u001b[39mDEFAULT_BUFFER_SIZE\n\u001b[1;32m--> 313\u001b[0m \u001b[38;5;28;01mreturn\u001b[39;00m \u001b[38;5;28;43mself\u001b[39;49m\u001b[38;5;241;43m.\u001b[39;49m\u001b[43m_buffer\u001b[49m\u001b[38;5;241;43m.\u001b[39;49m\u001b[43mread1\u001b[49m\u001b[43m(\u001b[49m\u001b[43msize\u001b[49m\u001b[43m)\u001b[49m\n",
      "File \u001b[1;32mC:\\Program Files\\WindowsApps\\PythonSoftwareFoundation.Python.3.9_3.9.3568.0_x64__qbz5n2kfra8p0\\lib\\_compression.py:68\u001b[0m, in \u001b[0;36mDecompressReader.readinto\u001b[1;34m(self, b)\u001b[0m\n\u001b[0;32m     66\u001b[0m \u001b[38;5;28;01mdef\u001b[39;00m \u001b[38;5;21mreadinto\u001b[39m(\u001b[38;5;28mself\u001b[39m, b):\n\u001b[0;32m     67\u001b[0m     \u001b[38;5;28;01mwith\u001b[39;00m \u001b[38;5;28mmemoryview\u001b[39m(b) \u001b[38;5;28;01mas\u001b[39;00m view, view\u001b[38;5;241m.\u001b[39mcast(\u001b[38;5;124m\"\u001b[39m\u001b[38;5;124mB\u001b[39m\u001b[38;5;124m\"\u001b[39m) \u001b[38;5;28;01mas\u001b[39;00m byte_view:\n\u001b[1;32m---> 68\u001b[0m         data \u001b[38;5;241m=\u001b[39m \u001b[38;5;28;43mself\u001b[39;49m\u001b[38;5;241;43m.\u001b[39;49m\u001b[43mread\u001b[49m\u001b[43m(\u001b[49m\u001b[38;5;28;43mlen\u001b[39;49m\u001b[43m(\u001b[49m\u001b[43mbyte_view\u001b[49m\u001b[43m)\u001b[49m\u001b[43m)\u001b[49m\n\u001b[0;32m     69\u001b[0m         byte_view[:\u001b[38;5;28mlen\u001b[39m(data)] \u001b[38;5;241m=\u001b[39m data\n\u001b[0;32m     70\u001b[0m     \u001b[38;5;28;01mreturn\u001b[39;00m \u001b[38;5;28mlen\u001b[39m(data)\n",
      "File \u001b[1;32mC:\\Program Files\\WindowsApps\\PythonSoftwareFoundation.Python.3.9_3.9.3568.0_x64__qbz5n2kfra8p0\\lib\\gzip.py:487\u001b[0m, in \u001b[0;36m_GzipReader.read\u001b[1;34m(self, size)\u001b[0m\n\u001b[0;32m    483\u001b[0m \u001b[38;5;28;01mif\u001b[39;00m \u001b[38;5;28mself\u001b[39m\u001b[38;5;241m.\u001b[39m_new_member:\n\u001b[0;32m    484\u001b[0m     \u001b[38;5;66;03m# If the _new_member flag is set, we have to\u001b[39;00m\n\u001b[0;32m    485\u001b[0m     \u001b[38;5;66;03m# jump to the next member, if there is one.\u001b[39;00m\n\u001b[0;32m    486\u001b[0m     \u001b[38;5;28mself\u001b[39m\u001b[38;5;241m.\u001b[39m_init_read()\n\u001b[1;32m--> 487\u001b[0m     \u001b[38;5;28;01mif\u001b[39;00m \u001b[38;5;129;01mnot\u001b[39;00m \u001b[38;5;28;43mself\u001b[39;49m\u001b[38;5;241;43m.\u001b[39;49m\u001b[43m_read_gzip_header\u001b[49m\u001b[43m(\u001b[49m\u001b[43m)\u001b[49m:\n\u001b[0;32m    488\u001b[0m         \u001b[38;5;28mself\u001b[39m\u001b[38;5;241m.\u001b[39m_size \u001b[38;5;241m=\u001b[39m \u001b[38;5;28mself\u001b[39m\u001b[38;5;241m.\u001b[39m_pos\n\u001b[0;32m    489\u001b[0m         \u001b[38;5;28;01mreturn\u001b[39;00m \u001b[38;5;124mb\u001b[39m\u001b[38;5;124m\"\u001b[39m\u001b[38;5;124m\"\u001b[39m\n",
      "File \u001b[1;32mC:\\Program Files\\WindowsApps\\PythonSoftwareFoundation.Python.3.9_3.9.3568.0_x64__qbz5n2kfra8p0\\lib\\gzip.py:435\u001b[0m, in \u001b[0;36m_GzipReader._read_gzip_header\u001b[1;34m(self)\u001b[0m\n\u001b[0;32m    432\u001b[0m     \u001b[38;5;28;01mreturn\u001b[39;00m \u001b[38;5;28;01mFalse\u001b[39;00m\n\u001b[0;32m    434\u001b[0m \u001b[38;5;28;01mif\u001b[39;00m magic \u001b[38;5;241m!=\u001b[39m \u001b[38;5;124mb\u001b[39m\u001b[38;5;124m'\u001b[39m\u001b[38;5;130;01m\\037\u001b[39;00m\u001b[38;5;130;01m\\213\u001b[39;00m\u001b[38;5;124m'\u001b[39m:\n\u001b[1;32m--> 435\u001b[0m     \u001b[38;5;28;01mraise\u001b[39;00m BadGzipFile(\u001b[38;5;124m'\u001b[39m\u001b[38;5;124mNot a gzipped file (\u001b[39m\u001b[38;5;132;01m%r\u001b[39;00m\u001b[38;5;124m)\u001b[39m\u001b[38;5;124m'\u001b[39m \u001b[38;5;241m%\u001b[39m magic)\n\u001b[0;32m    437\u001b[0m (method, flag,\n\u001b[0;32m    438\u001b[0m  \u001b[38;5;28mself\u001b[39m\u001b[38;5;241m.\u001b[39m_last_mtime) \u001b[38;5;241m=\u001b[39m struct\u001b[38;5;241m.\u001b[39munpack(\u001b[38;5;124m\"\u001b[39m\u001b[38;5;124m<BBIxx\u001b[39m\u001b[38;5;124m\"\u001b[39m, \u001b[38;5;28mself\u001b[39m\u001b[38;5;241m.\u001b[39m_read_exact(\u001b[38;5;241m8\u001b[39m))\n\u001b[0;32m    439\u001b[0m \u001b[38;5;28;01mif\u001b[39;00m method \u001b[38;5;241m!=\u001b[39m \u001b[38;5;241m8\u001b[39m:\n",
      "\u001b[1;31mBadGzipFile\u001b[0m: Not a gzipped file (b'<!')"
     ]
    }
   ],
   "source": [
    "def ensure_pc_detailed(version: Optional[str], force: bool = False):\n",
    "    if version is None:\n",
    "        import bioversions\n",
    "        \n",
    "        version = bioversions.get_version(\"pathwaycommons\")\n",
    "        print(f'BioPax version: {version}')\n",
    "\n",
    "    url = f\"https://www.pathwaycommons.org/archives/PC2/v{version}/PathwayCommons{version}.Detailed.BIOPAX.owl.gz\"\n",
    "    path = pystow.ensure(\"bio\", \"pathwaycommons\", version, url=url)    \n",
    "    return pybiopax.model_from_owl_gz(path)\n",
    "\n",
    "pc12 = ensure_pc_detailed(version=\"12\")"
   ]
  },
  {
   "cell_type": "markdown",
   "id": "informed-kennedy",
   "metadata": {},
   "source": [
    "A simple first look into a model is to count how many of each type of BioPAX element it contains."
   ]
  },
  {
   "cell_type": "code",
   "execution_count": 3,
   "id": "continental-quantum",
   "metadata": {},
   "outputs": [
    {
     "name": "stdout",
     "output_type": "stream",
     "text": [
      "Got 3,745,386 objects\n"
     ]
    },
    {
     "data": {
      "text/html": [
       "<table>\n",
       "<thead>\n",
       "<tr><th>Type                            </th><th style=\"text-align: right;\">  Count</th></tr>\n",
       "</thead>\n",
       "<tbody>\n",
       "<tr><td>TemplateReactionRegulation      </td><td style=\"text-align: right;\"> 962641</td></tr>\n",
       "<tr><td>RelationshipXref                </td><td style=\"text-align: right;\"> 683543</td></tr>\n",
       "<tr><td>Evidence                        </td><td style=\"text-align: right;\"> 558049</td></tr>\n",
       "<tr><td>TemplateReaction                </td><td style=\"text-align: right;\"> 166320</td></tr>\n",
       "<tr><td>Control                         </td><td style=\"text-align: right;\"> 152432</td></tr>\n",
       "<tr><td>UnificationXref                 </td><td style=\"text-align: right;\"> 133283</td></tr>\n",
       "<tr><td>PublicationXref                 </td><td style=\"text-align: right;\"> 119613</td></tr>\n",
       "<tr><td>Protein                         </td><td style=\"text-align: right;\"> 114023</td></tr>\n",
       "<tr><td>SequenceSite                    </td><td style=\"text-align: right;\"> 108257</td></tr>\n",
       "<tr><td>Catalysis                       </td><td style=\"text-align: right;\"> 100923</td></tr>\n",
       "<tr><td>Stoichiometry                   </td><td style=\"text-align: right;\">  87274</td></tr>\n",
       "<tr><td>ModificationFeature             </td><td style=\"text-align: right;\">  85815</td></tr>\n",
       "<tr><td>BiochemicalReaction             </td><td style=\"text-align: right;\">  50353</td></tr>\n",
       "<tr><td>Rna                             </td><td style=\"text-align: right;\">  50323</td></tr>\n",
       "<tr><td>RnaReference                    </td><td style=\"text-align: right;\">  49119</td></tr>\n",
       "<tr><td>Complex                         </td><td style=\"text-align: right;\">  45610</td></tr>\n",
       "<tr><td>SmallMolecule                   </td><td style=\"text-align: right;\">  39555</td></tr>\n",
       "<tr><td>ProteinReference                </td><td style=\"text-align: right;\">  27981</td></tr>\n",
       "<tr><td>ComplexAssembly                 </td><td style=\"text-align: right;\">  24552</td></tr>\n",
       "<tr><td>SmallMoleculeReference          </td><td style=\"text-align: right;\">  24228</td></tr>\n",
       "<tr><td>SequenceInterval                </td><td style=\"text-align: right;\">  23617</td></tr>\n",
       "<tr><td>FragmentFeature                 </td><td style=\"text-align: right;\">  23597</td></tr>\n",
       "<tr><td>Degradation                     </td><td style=\"text-align: right;\">  20625</td></tr>\n",
       "<tr><td>BindingFeature                  </td><td style=\"text-align: right;\">  16930</td></tr>\n",
       "<tr><td>Modulation                      </td><td style=\"text-align: right;\">  15364</td></tr>\n",
       "<tr><td>PathwayStep                     </td><td style=\"text-align: right;\">  15160</td></tr>\n",
       "<tr><td>Transport                       </td><td style=\"text-align: right;\">   6342</td></tr>\n",
       "<tr><td>Pathway                         </td><td style=\"text-align: right;\">   5772</td></tr>\n",
       "<tr><td>SequenceLocation                </td><td style=\"text-align: right;\">   4514</td></tr>\n",
       "<tr><td>RnaRegion                       </td><td style=\"text-align: right;\">   4286</td></tr>\n",
       "<tr><td>RnaRegionReference              </td><td style=\"text-align: right;\">   4251</td></tr>\n",
       "<tr><td>BiochemicalPathwayStep          </td><td style=\"text-align: right;\">   3831</td></tr>\n",
       "<tr><td>MolecularInteraction            </td><td style=\"text-align: right;\">   3545</td></tr>\n",
       "<tr><td>DnaRegion                       </td><td style=\"text-align: right;\">   2674</td></tr>\n",
       "<tr><td>DnaRegionReference              </td><td style=\"text-align: right;\">   2672</td></tr>\n",
       "<tr><td>PhysicalEntity                  </td><td style=\"text-align: right;\">   1680</td></tr>\n",
       "<tr><td>Dna                             </td><td style=\"text-align: right;\">   1679</td></tr>\n",
       "<tr><td>DnaReference                    </td><td style=\"text-align: right;\">   1266</td></tr>\n",
       "<tr><td>ChemicalStructure               </td><td style=\"text-align: right;\">   1144</td></tr>\n",
       "<tr><td>BioSource                       </td><td style=\"text-align: right;\">    591</td></tr>\n",
       "<tr><td>TransportWithBiochemicalReaction</td><td style=\"text-align: right;\">    582</td></tr>\n",
       "<tr><td>SequenceModificationVocabulary  </td><td style=\"text-align: right;\">    346</td></tr>\n",
       "<tr><td>CellularLocationVocabulary      </td><td style=\"text-align: right;\">    295</td></tr>\n",
       "<tr><td>SequenceRegionVocabulary        </td><td style=\"text-align: right;\">    253</td></tr>\n",
       "<tr><td>Conversion                      </td><td style=\"text-align: right;\">    247</td></tr>\n",
       "<tr><td>EntityFeature                   </td><td style=\"text-align: right;\">     84</td></tr>\n",
       "<tr><td>InteractionVocabulary           </td><td style=\"text-align: right;\">     49</td></tr>\n",
       "<tr><td>EvidenceCodeVocabulary          </td><td style=\"text-align: right;\">     47</td></tr>\n",
       "<tr><td>RelationshipTypeVocabulary      </td><td style=\"text-align: right;\">     18</td></tr>\n",
       "<tr><td>Provenance                      </td><td style=\"text-align: right;\">     14</td></tr>\n",
       "<tr><td>Interaction                     </td><td style=\"text-align: right;\">      6</td></tr>\n",
       "<tr><td>Score                           </td><td style=\"text-align: right;\">      4</td></tr>\n",
       "<tr><td>EntityReferenceTypeVocabulary   </td><td style=\"text-align: right;\">      2</td></tr>\n",
       "<tr><td>DeltaG                          </td><td style=\"text-align: right;\">      2</td></tr>\n",
       "<tr><td>CellVocabulary                  </td><td style=\"text-align: right;\">      2</td></tr>\n",
       "<tr><td>TissueVocabulary                </td><td style=\"text-align: right;\">      1</td></tr>\n",
       "</tbody>\n",
       "</table>"
      ],
      "text/plain": [
       "<IPython.core.display.HTML object>"
      ]
     },
     "execution_count": 3,
     "metadata": {},
     "output_type": "execute_result"
    }
   ],
   "source": [
    "type_counter = Counter(\n",
    "    obj.__class__.__name__\n",
    "    for obj in pc12.objects.values()\n",
    ")\n",
    "\n",
    "print(f\"Got {sum(type_counter.values()):,} objects\")\n",
    "\n",
    "HTML(tabulate(type_counter.most_common(), tablefmt=\"html\", headers=[\"Type\", \"Count\"]))"
   ]
  },
  {
   "cell_type": "markdown",
   "id": "sunset-prophet",
   "metadata": {},
   "source": [
    "## Which proteins are in a phosphorylated state when catalyzing a reaction?\n",
    "\n",
    "There are a few different perspectives for the concept of \"active states\", this is one way of identifying them. The first 15 are shown for brevity. To implement this check, we also implement the `iter_modifications()` function which gives all features for a given physical entity."
   ]
  },
  {
   "cell_type": "code",
   "execution_count": 4,
   "id": "immune-passion",
   "metadata": {},
   "outputs": [
    {
     "data": {
      "application/vnd.jupyter.widget-view+json": {
       "model_id": "5c082c2a9b474134ba082fb2bb9dd7dd",
       "version_major": 2,
       "version_minor": 0
      },
      "text/plain": [
       "0it [00:00, ?it/s]"
      ]
     },
     "metadata": {},
     "output_type": "display_data"
    },
    {
     "name": "stdout",
     "output_type": "stream",
     "text": [
      "Matched 1283 examples\n"
     ]
    },
    {
     "data": {
      "text/html": [
       "<table>\n",
       "<thead>\n",
       "<tr><th>Name             </th><th>Enzyme          </th><th>Reactants    </th><th>Products                </th></tr>\n",
       "</thead>\n",
       "<tbody>\n",
       "<tr><td>                 </td><td>RAF1            </td><td>MEK1         </td><td>MEK1                    </td></tr>\n",
       "<tr><td>                 </td><td>JAK2_p          </td><td>STAT5, STAT5 </td><td>STAT5_p                 </td></tr>\n",
       "<tr><td>                 </td><td>RAF1            </td><td>MEK2         </td><td>MEK2                    </td></tr>\n",
       "<tr><td>                 </td><td>JAK1_p          </td><td>gp130, gp130 </td><td>gp130_p                 </td></tr>\n",
       "<tr><td>                 </td><td>Akt_p           </td><td>GSK3b        </td><td>GSK3b_p                 </td></tr>\n",
       "<tr><td>CATALYSIS        </td><td>Raf1            </td><td>MEK          </td><td>MEK                     </td></tr>\n",
       "<tr><td>                 </td><td>MEK1/2(MKK1/2)_p</td><td>ERK1/2       </td><td>ERK1/2_p                </td></tr>\n",
       "<tr><td>                 </td><td>PLCgamma1       </td><td>PI-4-5-P2    </td><td>DAG, IP3                </td></tr>\n",
       "<tr><td>                 </td><td>MEK1/2(MKK1/2)_p</td><td>ERK1/2       </td><td>ERK1/2_p                </td></tr>\n",
       "<tr><td>CATALYSIS        </td><td>MAPKAPK2        </td><td>SRF          </td><td>SRF                     </td></tr>\n",
       "<tr><td>UNKNOWN_CATALYSIS</td><td>PKCtheta        </td><td>PRKD1        </td><td>PRKD1                   </td></tr>\n",
       "<tr><td>                 </td><td>ERK1/2_p        </td><td>ELK-1        </td><td>ELK-1_p                 </td></tr>\n",
       "<tr><td>                 </td><td>p-T,Y-JNK1      </td><td>BIM, BAD, ATP</td><td>ADP, p-S128-BAD, BCL2L11</td></tr>\n",
       "<tr><td>                 </td><td>MKK4            </td><td>nPKC-delta   </td><td>nPKC-delta              </td></tr>\n",
       "<tr><td>CATALYSIS        </td><td>TAK1            </td><td>ATP, MKK6    </td><td>ADP, MKK6               </td></tr>\n",
       "</tbody>\n",
       "</table>"
      ],
      "text/plain": [
       "<IPython.core.display.HTML object>"
      ]
     },
     "execution_count": 4,
     "metadata": {},
     "output_type": "execute_result"
    }
   ],
   "source": [
    "def iter_modifications(entity: PhysicalEntity, query: str) -> Iterable[ModificationFeature]:\n",
    "    \"\"\"Iterate over modification features in a protein that have the query string as a substring.\"\"\"\n",
    "    for feature in entity.feature or []:\n",
    "        # If this is a modification feature which has a known type\n",
    "        # and that type includes \"phospho\", i.e., is a phosphorylation\n",
    "        if (\n",
    "            isinstance(feature, ModificationFeature)\n",
    "            and feature.modification_type\n",
    "            and any(query in mod for mod in feature.modification_type.term)\n",
    "        ):\n",
    "            yield feature\n",
    "\n",
    "def iter_phosphosites(protein: Protein):\n",
    "    yield from iter_modifications(protein, \"phospho\")\n",
    "\n",
    "rows = []\n",
    "for obj in tqdm(pc12.get_objects_by_type(Catalysis)):\n",
    "    for protein in obj.controller:\n",
    "        if not isinstance(protein, Protein):\n",
    "            continue\n",
    "        features = list(iter_phosphosites(protein))\n",
    "        if not features:\n",
    "            continue\n",
    "        rows.append((\n",
    "            obj.display_name or \"\",\n",
    "            protein.display_name,\n",
    "            \", \".join(o.display_name for o in obj.controlled.left),\n",
    "            \", \".join(o.display_name for o in obj.controlled.right),\n",
    "        ))\n",
    "\n",
    "print(f\"Matched {len(rows)} examples\")\n",
    "        \n",
    "HTML(tabulate(rows[:15], tablefmt=\"html\", headers=[\"Name\", \"Enzyme\", \"Reactants\", \"Products\"]))"
   ]
  },
  {
   "cell_type": "markdown",
   "id": "convenient-quick",
   "metadata": {},
   "source": [
    "## Which catalysys of biochemical reactions require a cofactor?\n",
    "\n",
    "We find that Pathway Commons has a few more than 80 such annotations."
   ]
  },
  {
   "cell_type": "code",
   "execution_count": 5,
   "id": "sexual-enclosure",
   "metadata": {},
   "outputs": [
    {
     "name": "stdout",
     "output_type": "stream",
     "text": [
      "Matched 84 examples\n"
     ]
    },
    {
     "data": {
      "text/html": [
       "<table>\n",
       "<thead>\n",
       "<tr><th>Name                                                      </th><th>Controller                                                 </th><th>Cofactor         </th><th>Reactants                            </th><th>Products                                      </th></tr>\n",
       "</thead>\n",
       "<tbody>\n",
       "<tr><td>tyrosine aminotransferase                                 </td><td>[Complex(TAT)]                                             </td><td>pyridoxal-P      </td><td>2-oxoglutarate, tyr                  </td><td>glt, 4-hydroxyphenylpyruvate                  </td></tr>\n",
       "<tr><td>nitric oxide synthase                                     </td><td>[Complex(iNOS)]                                            </td><td>protoheme IX     </td><td>NADPH, O2, arg, H+                   </td><td>L-citrulline, nitric oxide, NADP+, H2O        </td></tr>\n",
       "<tr><td>protoporphyrinogen oxidase                                </td><td>[Complex(PPO)]                                             </td><td>FAD              </td><td>protoporphyrinogen IX, O2            </td><td>hydrogen peroxide, protoporphyrin IX          </td></tr>\n",
       "<tr><td>creatine kinase                                           </td><td>[Complex(BB)]                                              </td><td>Mg2+             </td><td>creatine, ATP                        </td><td>creatine-phosphate, ADP, H+                   </td></tr>\n",
       "<tr><td>kynurenine 3-monooxygenase                                </td><td>[Protein(Kynurenine 3-monooxygenase)]                      </td><td>FAD              </td><td>NADPH, O2, H+, L-kynurenine          </td><td>3-hydroxy-L-kynurenine, NADP+, H2O            </td></tr>\n",
       "<tr><td>arginase                                                  </td><td>[Complex(arginase type 2)]                                 </td><td>Mn2+             </td><td>arg, H2O                             </td><td>L-ornithine, urea                             </td></tr>\n",
       "<tr><td>methylarsonate reductase                                  </td><td>[Complex(glutathione transferase, &amp;Omega; class)]          </td><td>glutathione      </td><td>glutathione, methylarsonate          </td><td>glutathione disulfide, methylarsonite         </td></tr>\n",
       "<tr><td>glutamine-phenylpyruvate transaminase                     </td><td>[Complex(KAT1)]                                            </td><td>pyridoxal-P      </td><td>gln, 2-oxo-3-phenylpropanoate        </td><td>phe, 2-oxoglutaramate                         </td></tr>\n",
       "<tr><td>&lt;small&gt;D&lt;/small&gt;-lactate dehydrogenase (cytochrome)       </td><td>[Protein(DLD)]                                             </td><td>FAD              </td><td>an oxidized cytochrome c, (R)-lactate</td><td>a reduced c-type cytochrome, pyruvate, H+     </td></tr>\n",
       "<tr><td>indoleamine 2,3-dioxygenase                               </td><td>[Protein(IDO)]                                             </td><td>protoheme IX     </td><td>trp, O2, H+                          </td><td>N-formylkynurenine                            </td></tr>\n",
       "<tr><td>UDP-alpha-D-glucose:glycogenin alpha-D-glucosyltransferase</td><td>[Complex(glycogenin 1)]                                    </td><td>Mn2+             </td><td>a glycogenin, UDP-D-glucose          </td><td>a glucosyl-glycogenin, H+, UDP                </td></tr>\n",
       "<tr><td>squalene monooxygenase                                    </td><td>[Protein(squalene monooxygenase)]                          </td><td>FAD              </td><td>NADPH, O2, squalene, H+              </td><td>NADP+, (3S)-2,3-epoxy-2,3-dihydrosqualene, H2O</td></tr>\n",
       "<tr><td>nitric-oxide synthase                                     </td><td>[Complex(nNOS)]                                            </td><td>FMN              </td><td>NADPH, O2, arg, H+                   </td><td>L-citrulline, nitric oxide, NADP+, H2O        </td></tr>\n",
       "<tr><td>cotinine:UDP-glucuronate glucuronosyltransferase          </td><td>[Protein(UDP glycosyltransferase 1 family, polypeptide A4)]</td><td>UDP-D-glucuronate</td><td>UDP-D-glucuronate, cotinine          </td><td>cotinine-glucuronide, UDP                     </td></tr>\n",
       "<tr><td>nicotine monooxygenase                                    </td><td>[Protein(FMO 3)]                                           </td><td>NADPH            </td><td>(S)-nicotine, O2, NADPH              </td><td>nicotine-1&#x27;-N-oxide, NADP+, H2O               </td></tr>\n",
       "</tbody>\n",
       "</table>"
      ],
      "text/plain": [
       "<IPython.core.display.HTML object>"
      ]
     },
     "execution_count": 5,
     "metadata": {},
     "output_type": "execute_result"
    }
   ],
   "source": [
    "def iter_cofactored_catalyses(model: BioPaxModel) -> Iterable[Catalysis]:\n",
    "    \"\"\"Iterate over catalyses of biochemical reactions that require a cofactor.\"\"\"\n",
    "    for obj in model.get_objects_by_type(Catalysis):\n",
    "        if not obj.cofactor:\n",
    "            continue\n",
    "        if not isinstance(obj.controlled, BiochemicalReaction):\n",
    "            continue\n",
    "        yield obj\n",
    "\n",
    "rows = [\n",
    "    (\n",
    "        obj.display_name,\n",
    "        obj.controller,\n",
    "        obj.cofactor.display_name,\n",
    "        \", \".join(o.display_name for o in obj.controlled.left),\n",
    "        \", \".join(o.display_name for o in obj.controlled.right),\n",
    "    )\n",
    "    for obj in iter_cofactored_catalyses(pc12)\n",
    "]\n",
    "\n",
    "print(f\"Matched {len(rows)} examples\")\n",
    "\n",
    "HTML(tabulate(rows[:15], tablefmt=\"html\", headers=[\"Name\", \"Controller\", \"Cofactor\", \"Reactants\", \"Products\"]))"
   ]
  },
  {
   "cell_type": "markdown",
   "id": "efficient-wiring",
   "metadata": {},
   "source": [
    "## Find simple Phosphorylation Reactions\n",
    "\n",
    "We now implement an iterator over the set of simple phoshporylation reactions in which there is a single protein reactant and product."
   ]
  },
  {
   "cell_type": "code",
   "execution_count": 6,
   "id": "dedicated-palestine",
   "metadata": {},
   "outputs": [
    {
     "name": "stdout",
     "output_type": "stream",
     "text": [
      "Matched 15418 examples\n"
     ]
    },
    {
     "data": {
      "text/html": [
       "<table>\n",
       "<thead>\n",
       "<tr><th>Name                                       </th><th>Reactant            </th></tr>\n",
       "</thead>\n",
       "<tbody>\n",
       "<tr><td>STATE_TRANSITION_LEFT__Akt-RIGHT__Akt-_re22</td><td>Protein(Akt)        </td></tr>\n",
       "<tr><td>                                           </td><td>Protein(PDHA2)      </td></tr>\n",
       "<tr><td>                                           </td><td>Protein(AVEN)       </td></tr>\n",
       "<tr><td>                                           </td><td>Protein(SIT1)       </td></tr>\n",
       "<tr><td>                                           </td><td>Protein(RALY)       </td></tr>\n",
       "<tr><td>                                           </td><td>Protein(ATP1A1)     </td></tr>\n",
       "<tr><td>                                           </td><td>Protein(Kv11.1 iso5)</td></tr>\n",
       "<tr><td>                                           </td><td>Protein(HSF1)       </td></tr>\n",
       "<tr><td>                                           </td><td>Protein(IRF3)       </td></tr>\n",
       "<tr><td>                                           </td><td>Protein(TPPP)       </td></tr>\n",
       "<tr><td>                                           </td><td>Protein(PINX1)      </td></tr>\n",
       "<tr><td>                                           </td><td>Protein(PKCD)       </td></tr>\n",
       "<tr><td>                                           </td><td>Protein(PRKCA)      </td></tr>\n",
       "<tr><td>                                           </td><td>Protein(TPX2)       </td></tr>\n",
       "<tr><td>                                           </td><td>Protein(CDC37)      </td></tr>\n",
       "</tbody>\n",
       "</table>"
      ],
      "text/plain": [
       "<IPython.core.display.HTML object>"
      ]
     },
     "execution_count": 6,
     "metadata": {},
     "output_type": "execute_result"
    }
   ],
   "source": [
    "def is_simple_protein_reaction(obj: Any) -> bool:\n",
    "    \"\"\"Check if the object is a biochemical reaction with the same\n",
    "    single protein entity as reactant/product.\n",
    "    \"\"\"\n",
    "    if not isinstance(obj, BiochemicalReaction):\n",
    "        return False\n",
    "    if len(obj.left) != 1 or len(obj.right) != 1:\n",
    "        return False\n",
    "    left, right = obj.left[0], obj.right[0]\n",
    "    if not isinstance(left, Protein) or not isinstance(right, Protein):\n",
    "        return False\n",
    "    if left.entity_reference != right.entity_reference:\n",
    "        return False\n",
    "    return True\n",
    "\n",
    "def iter_simple_protein_reactions(model: BioPaxModel) -> Iterable[BiochemicalReaction]:\n",
    "    \"\"\"Iterate over biochemical reactions in the model that have the same\n",
    "    single protein entity as reactant/product.\n",
    "    \"\"\"\n",
    "    for obj in model.get_objects_by_type(BiochemicalReaction):\n",
    "        if is_simple_protein_reaction(obj):\n",
    "            yield obj\n",
    "\n",
    "def iter_phosphorylations(m):\n",
    "    for obj in iter_simple_protein_reactions(m):\n",
    "        left = list(iter_phosphosites(obj.left[0]))\n",
    "        right = list(iter_phosphosites(obj.right[0]))\n",
    "        if not left and right:\n",
    "            yield obj\n",
    "\n",
    "rows = [\n",
    "    (\n",
    "        obj.display_name, obj.left[0]\n",
    "    )\n",
    "    for obj in iter_phosphorylations(pc12)\n",
    "]\n",
    "\n",
    "print(f\"Matched {len(rows)} examples\")\n",
    "\n",
    "HTML(tabulate(rows[:15], tablefmt=\"html\", headers=[\"Name\", \"Reactant\"]))"
   ]
  },
  {
   "cell_type": "markdown",
   "id": "level-paris",
   "metadata": {},
   "source": [
    "## Get Proteins with Bound Small Molecules \n",
    "\n",
    "In general, complexes in the model can be obtained using `get_objects_by_type()`, and their components iterated over with the `component` attribute (note that for simplicity, here we do not resolve `member_entity_reference` attributes though generally these are important to traverse as well). The following functions iterate over complexes between proteins and one or more small molecules."
   ]
  },
  {
   "cell_type": "code",
   "execution_count": 7,
   "id": "coastal-acrylic",
   "metadata": {},
   "outputs": [
    {
     "name": "stdout",
     "output_type": "stream",
     "text": [
      "Matched 13,338 examples\n",
      "\n",
      "Complex(phenanthrene/ESR2 protein complex)\n",
      "  Protein(ESR2 protein)\n",
      "  SmallMolecule(phenanthrene)\n",
      "Complex(SIRT3(?-399):Zn2+)\n",
      "  SmallMolecule(Zn2+)\n",
      "  Protein(SIRT3)\n",
      "Complex(mono-n-octyl phthalate/PPARB protein complex)\n",
      "  SmallMolecule(mono-n-octyl phthalate)\n",
      "  Protein(PPARB protein)\n",
      "Complex(Cholestanols/GPBAR1 protein complex)\n",
      "  SmallMolecule(Cholestanols)\n",
      "  Protein(GPBAR1 protein)\n",
      "Complex(RAB4A:GTP)\n",
      "  Protein(RAB4A)\n",
      "  SmallMolecule(GTP)\n",
      "Complex(fenofibric acid/PPARA protein complex)\n",
      "  SmallMolecule(fenofibric acid)\n",
      "  Protein(PPARA protein)\n",
      "Complex(Dipyridamole/RCAN1 protein alternative form complex)\n",
      "  SmallMolecule(Dipyridamole)\n",
      "  Protein(RCAN1 protein alternative form)\n",
      "Complex(pirinixic acid/PPARA protein complex)\n",
      "  SmallMolecule(pirinixic acid)\n",
      "  Protein(PPARA protein)\n",
      "Complex(4-nitrobenzylthioinosine/SLC29A1 protein complex)\n",
      "  Protein(SLC29A1 protein)\n",
      "  SmallMolecule(4-nitrobenzylthioinosine)\n",
      "Complex(bisphenol A/PGR complex)\n",
      "  Protein(PGR)\n",
      "  SmallMolecule(bisphenol A)\n"
     ]
    }
   ],
   "source": [
    "def head(it, n=10):\n",
    "    for _, obj in zip(range(n), it):\n",
    "        yield obj\n",
    "\n",
    "def iter_bound(m):\n",
    "    for obj in m.get_objects_by_type(Complex):\n",
    "        c = Counter(c.__class__ for c in obj.component)\n",
    "        if c.get(Protein) != 1:\n",
    "            continue\n",
    "        if {SmallMolecule, Protein} != set(c):\n",
    "            continue\n",
    "        yield obj\n",
    "\n",
    "single_molecule = list(iter_bound(pc12))\n",
    "        \n",
    "print(f\"Matched {len(single_molecule):,} examples\\n\")\n",
    "\n",
    "for obj in head(single_molecule):\n",
    "    print(obj)\n",
    "    for component in obj.component:\n",
    "        print(\" \", component)"
   ]
  },
  {
   "cell_type": "markdown",
   "id": "suited-monthly",
   "metadata": {},
   "source": [
    "Get proteins with multiple bound small molecules"
   ]
  },
  {
   "cell_type": "code",
   "execution_count": 8,
   "id": "further-squad",
   "metadata": {},
   "outputs": [
    {
     "name": "stdout",
     "output_type": "stream",
     "text": [
      "Matched 184 examples\n",
      "\n",
      "Complex(Vitamin K 3/NADP/DCXR protein complex)\n",
      "  SmallMolecule(Vitamin K 3)\n",
      "  SmallMolecule(NADP)\n",
      "  Protein(DCXR protein)\n",
      "Complex(palmitoylated, myristoylated eNOS dimer)\n",
      "  SmallMolecule(Zn2+)\n",
      "  SmallMolecule(FMN)\n",
      "  SmallMolecule(heme)\n",
      "  Protein(2xPalmC-MyrG-NOS3)\n",
      "  SmallMolecule(FAD)\n",
      "Complex(Cholestanol/NAD/HSD17B10 protein complex)\n",
      "  SmallMolecule(NAD)\n",
      "  Protein(HSD17B10 protein)\n",
      "  SmallMolecule(Cholestanol)\n",
      "Complex(lauroyl-coenzyme A/NADP/HSDL2 protein complex)\n",
      "  Protein(HSDL2 protein)\n",
      "  SmallMolecule(lauroyl-coenzyme A)\n",
      "  SmallMolecule(NADP)\n",
      "Complex(CIAPIN1:4Fe-4S:2Fe-2S oxidized)\n",
      "  Protein(CIAPIN1)\n",
      "  SmallMolecule((2Fe-2S)(2+))\n",
      "  SmallMolecule(4Fe-4S cluster)\n",
      "Complex(pyruvate kinase complex, liver and RBC)\n",
      "  Protein(Pyruvate kinase, R/L type)\n",
      "  SmallMolecule(Mg2+)\n",
      "  SmallMolecule(K+)\n",
      "Complex(PP2B catalytic (Fe3+, Zn2+))\n",
      "  SmallMolecule(Zn2+)\n",
      "  SmallMolecule(Fe3+)\n",
      "  Protein(PPP3CA,B,C)\n",
      "Complex(Glycyrrhetinic Acid/NADP/HSD3B1 protein complex)\n",
      "  SmallMolecule(Glycyrrhetinic Acid)\n",
      "  SmallMolecule(NADP)\n",
      "  Protein(HSD3B1 protein)\n",
      "Complex(MAT1A mutants:K+:2Mg2+)\n",
      "  SmallMolecule(Mg2+)\n",
      "  SmallMolecule(K+)\n",
      "  Protein(MAT1A mutants)\n",
      "Complex(Estradiol/adenosine 3'-phosphate-5'-phosphate/SULT1E1 protein complex)\n",
      "  Protein(SULT1E1 protein)\n",
      "  SmallMolecule(adenosine 3'-phosphate-5'-phosphate)\n",
      "  SmallMolecule(Estradiol)\n"
     ]
    }
   ],
   "source": [
    "def iter_bound_multiple(m):\n",
    "    for obj in m.get_objects_by_type(Complex):\n",
    "        c = Counter(c.__class__ for c in obj.component)\n",
    "        if c.get(Protein) != 1:\n",
    "            continue\n",
    "        if {SmallMolecule, Protein} != set(c):\n",
    "            continue\n",
    "        if c.get(SmallMolecule) < 2:\n",
    "            continue\n",
    "        yield obj\n",
    "\n",
    "multiple_molecule = list(iter_bound_multiple(pc12))\n",
    "        \n",
    "print(f\"Matched {len(multiple_molecule):,} examples\\n\")\n",
    "        \n",
    "for obj in head(multiple_molecule):\n",
    "    print(obj)\n",
    "    for component in obj.component:\n",
    "        print(\" \", component)"
   ]
  },
  {
   "cell_type": "markdown",
   "id": "frozen-gathering",
   "metadata": {},
   "source": [
    "## Protein Feature Counts"
   ]
  },
  {
   "cell_type": "markdown",
   "id": "partial-dynamics",
   "metadata": {},
   "source": [
    "Find the protein with the most features"
   ]
  },
  {
   "cell_type": "code",
   "execution_count": 10,
   "id": "derived-tender",
   "metadata": {},
   "outputs": [
    {
     "data": {
      "text/html": [
       "<table>\n",
       "<thead>\n",
       "<tr><th>Protein                                                       </th><th style=\"text-align: right;\">  Modifications</th></tr>\n",
       "</thead>\n",
       "<tbody>\n",
       "<tr><td>Protein(NOTCH1 L1574Q Extracellular Fragment)                 </td><td style=\"text-align: right;\">             39</td></tr>\n",
       "<tr><td>Protein(NOTCH1 L1600P Extracellular Fragment)                 </td><td style=\"text-align: right;\">             39</td></tr>\n",
       "<tr><td>Protein(NOTCH1 I1616N Extracellular Fragment)                 </td><td style=\"text-align: right;\">             39</td></tr>\n",
       "<tr><td>Protein(NOTCH1 F1592S Extracellular Fragment)                 </td><td style=\"text-align: right;\">             39</td></tr>\n",
       "<tr><td>Protein(NOTCH1 R1598P Extracellular Fragment)                 </td><td style=\"text-align: right;\">             39</td></tr>\n",
       "<tr><td>Protein(NOTCH1 L1596H Extracellular Fragment)                 </td><td style=\"text-align: right;\">             39</td></tr>\n",
       "<tr><td>Protein(NOTCH1 I1616T Extracellular Fragment)                 </td><td style=\"text-align: right;\">             39</td></tr>\n",
       "<tr><td>Protein(NOTCH1 V1576E Extracellular Fragment)                 </td><td style=\"text-align: right;\">             39</td></tr>\n",
       "<tr><td>Protein(NOTCH1 L1593P Extracellular Fragment)                 </td><td style=\"text-align: right;\">             39</td></tr>\n",
       "<tr><td>Protein(NOTCH1 L1574P Extracellular Fragment)                 </td><td style=\"text-align: right;\">             39</td></tr>\n",
       "<tr><td>Protein(NOTCH1 Extracellular fragment (NECD1))                </td><td style=\"text-align: right;\">             38</td></tr>\n",
       "<tr><td>Protein(FRINGE-modified NOTCH2 Extracellular Fragment (NECD2))</td><td style=\"text-align: right;\">             37</td></tr>\n",
       "<tr><td>Protein(Glc,Sia-Gal-GlcNAc-Fuc-Pre-NOTCH2)                    </td><td style=\"text-align: right;\">             37</td></tr>\n",
       "<tr><td>Protein(Glc,Gal-GlcNAc-Fuc-Pre-NOTCH2)                        </td><td style=\"text-align: right;\">             37</td></tr>\n",
       "<tr><td>Protein(Glc,GlcNAc-Fuc-Pre-NOTCH2)                            </td><td style=\"text-align: right;\">             37</td></tr>\n",
       "</tbody>\n",
       "</table>"
      ],
      "text/plain": [
       "<IPython.core.display.HTML object>"
      ]
     },
     "execution_count": 10,
     "metadata": {},
     "output_type": "execute_result"
    }
   ],
   "source": [
    "protein_feature_counter = Counter({\n",
    "    protein: len(protein.feature)\n",
    "    for protein in pc12.get_objects_by_type(Protein)\n",
    "})\n",
    "\n",
    "HTML(tabulate(\n",
    "    protein_feature_counter.most_common(15), \n",
    "    tablefmt=\"html\", \n",
    "    headers=[\"Protein\", \"Features\"],\n",
    "))"
   ]
  },
  {
   "cell_type": "markdown",
   "id": "signed-revision",
   "metadata": {},
   "source": [
    "More specifically, the proteins with the most modification features"
   ]
  },
  {
   "cell_type": "code",
   "execution_count": 11,
   "id": "anticipated-volleyball",
   "metadata": {},
   "outputs": [
    {
     "data": {
      "text/html": [
       "<table>\n",
       "<thead>\n",
       "<tr><th>Protein                                                       </th><th style=\"text-align: right;\">  Modifications</th></tr>\n",
       "</thead>\n",
       "<tbody>\n",
       "<tr><td>Protein(NOTCH1 L1574Q Extracellular Fragment)                 </td><td style=\"text-align: right;\">             38</td></tr>\n",
       "<tr><td>Protein(NOTCH1 L1600P Extracellular Fragment)                 </td><td style=\"text-align: right;\">             38</td></tr>\n",
       "<tr><td>Protein(NOTCH1 I1616N Extracellular Fragment)                 </td><td style=\"text-align: right;\">             38</td></tr>\n",
       "<tr><td>Protein(NOTCH1 F1592S Extracellular Fragment)                 </td><td style=\"text-align: right;\">             38</td></tr>\n",
       "<tr><td>Protein(NOTCH1 R1598P Extracellular Fragment)                 </td><td style=\"text-align: right;\">             38</td></tr>\n",
       "<tr><td>Protein(NOTCH1 L1596H Extracellular Fragment)                 </td><td style=\"text-align: right;\">             38</td></tr>\n",
       "<tr><td>Protein(NOTCH1 I1616T Extracellular Fragment)                 </td><td style=\"text-align: right;\">             38</td></tr>\n",
       "<tr><td>Protein(NOTCH1 V1576E Extracellular Fragment)                 </td><td style=\"text-align: right;\">             38</td></tr>\n",
       "<tr><td>Protein(NOTCH1 L1593P Extracellular Fragment)                 </td><td style=\"text-align: right;\">             38</td></tr>\n",
       "<tr><td>Protein(NOTCH1 L1574P Extracellular Fragment)                 </td><td style=\"text-align: right;\">             38</td></tr>\n",
       "<tr><td>Protein(NOTCH1 Extracellular fragment (NECD1))                </td><td style=\"text-align: right;\">             37</td></tr>\n",
       "<tr><td>Protein(FRINGE-modified NOTCH2 Extracellular Fragment (NECD2))</td><td style=\"text-align: right;\">             36</td></tr>\n",
       "<tr><td>Protein(Glc,Sia-Gal-GlcNAc-Fuc-Pre-NOTCH2)                    </td><td style=\"text-align: right;\">             36</td></tr>\n",
       "<tr><td>Protein(Glc,Gal-GlcNAc-Fuc-Pre-NOTCH2)                        </td><td style=\"text-align: right;\">             36</td></tr>\n",
       "<tr><td>Protein(Glc,GlcNAc-Fuc-Pre-NOTCH2)                            </td><td style=\"text-align: right;\">             36</td></tr>\n",
       "</tbody>\n",
       "</table>"
      ],
      "text/plain": [
       "<IPython.core.display.HTML object>"
      ]
     },
     "execution_count": 11,
     "metadata": {},
     "output_type": "execute_result"
    }
   ],
   "source": [
    "protein_mod_counter = Counter({\n",
    "    protein: sum(isinstance(feature, ModificationFeature) for feature in protein.feature)\n",
    "    for protein in pc12.get_objects_by_type(Protein)\n",
    "})\n",
    "\n",
    "HTML(tabulate(\n",
    "    protein_mod_counter.most_common(15), \n",
    "    tablefmt=\"html\", \n",
    "    headers=[\"Protein\", \"Modifications\"],\n",
    "))"
   ]
  },
  {
   "cell_type": "markdown",
   "id": "ruled-wagner",
   "metadata": {},
   "source": [
    "## Interaction\n",
    "\n",
    "Count the most interactions for each type of entity."
   ]
  },
  {
   "cell_type": "code",
   "execution_count": 19,
   "id": "unknown-sample",
   "metadata": {},
   "outputs": [
    {
     "data": {
      "text/html": [
       "<table>\n",
       "<thead>\n",
       "<tr><th>              </th><th>Entity                                                 </th><th style=\"text-align: right;\">  Interactions</th></tr>\n",
       "</thead>\n",
       "<tbody>\n",
       "<tr><td>Rna           </td><td>Rna(KTN1)                                              </td><td style=\"text-align: right;\">           947</td></tr>\n",
       "<tr><td>Protein       </td><td>Protein(AR)                                            </td><td style=\"text-align: right;\">           106</td></tr>\n",
       "<tr><td>Complex       </td><td>Complex(Histamine_Histamine H1 receptor (Homo sapiens))</td><td style=\"text-align: right;\">            80</td></tr>\n",
       "<tr><td>SmallMolecule </td><td>SmallMolecule(Calcium)                                 </td><td style=\"text-align: right;\">            16</td></tr>\n",
       "<tr><td>RnaRegion     </td><td>RnaRegion(Isl-1)                                       </td><td style=\"text-align: right;\">             3</td></tr>\n",
       "<tr><td>DnaRegion     </td><td>DnaRegion(DAT)                                         </td><td style=\"text-align: right;\">             2</td></tr>\n",
       "<tr><td>Dna           </td><td>Dna(coding region)                                     </td><td style=\"text-align: right;\">             1</td></tr>\n",
       "<tr><td>Pathway       </td><td>&lt;pybiopax.biopax.base.Pathway object at 0x23ba71460&gt;   </td><td style=\"text-align: right;\">             3</td></tr>\n",
       "<tr><td>PhysicalEntity</td><td>PhysicalEntity(s66)                                    </td><td style=\"text-align: right;\">             1</td></tr>\n",
       "</tbody>\n",
       "</table>"
      ],
      "text/plain": [
       "<IPython.core.display.HTML object>"
      ]
     },
     "execution_count": 19,
     "metadata": {},
     "output_type": "execute_result"
    }
   ],
   "source": [
    "interaction_counter = Counter()\n",
    "typed_interaction_counter = defaultdict(Counter)\n",
    "for interaction in tqdm(pc12.get_objects_by_type(Interaction)):\n",
    "    for participant in interaction.participant:\n",
    "        interaction_counter[participant] += 1\n",
    "        typed_interaction_counter[type(participant)][participant] += 1\n",
    "\n",
    "HTML(tabulate(\n",
    "    [\n",
    "        (t.__name__, *row)\n",
    "        for t, c in typed_interaction_counter.items()\n",
    "        for row in c.most_common(1)\n",
    "    ],\n",
    "    tablefmt=\"html\", \n",
    "    headers=[\"Entity\", \"Interactions\"],\n",
    "))"
   ]
  },
  {
   "cell_type": "markdown",
   "id": "daily-scout",
   "metadata": {},
   "source": [
    "## Parting Thoughts\n",
    "\n",
    "We note that the high expressivity of BioPAX also sometimes enables the same\n",
    "information to be encoded differently. For example, while the catalysis model\n",
    "has an explicit slot for a cofactor, the same information could be encoded by\n",
    "replacing the controller of the catalysis with a complex that includes the cofactor.\n",
    "Ultimately, some interpretation may be required depending on the source of\n",
    "BioPAX content. For example, the [INDRA BioPAX processor](https://indra.readthedocs.io/en/latest/modules/sources/biopax/index.html),\n",
    "built on top of PyBioPAX, makes certain assumptions that trade some recall for\n",
    "higher precision.\n"
   ]
  }
 ],
 "metadata": {
  "kernelspec": {
   "display_name": "Python 3",
   "language": "python",
   "name": "python3"
  },
  "language_info": {
   "codemirror_mode": {
    "name": "ipython",
    "version": 3
   },
   "file_extension": ".py",
   "mimetype": "text/x-python",
   "name": "python",
   "nbconvert_exporter": "python",
   "pygments_lexer": "ipython3",
   "version": "3.9.13"
  }
 },
 "nbformat": 4,
 "nbformat_minor": 5
}
